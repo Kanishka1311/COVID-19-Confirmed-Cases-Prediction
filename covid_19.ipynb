{
  "nbformat": 4,
  "nbformat_minor": 0,
  "metadata": {
    "colab": {
      "name": "covid_19.ipynb",
      "provenance": [],
      "collapsed_sections": []
    },
    "kernelspec": {
      "name": "python3",
      "display_name": "Python 3"
    },
    "accelerator": "GPU"
  },
  "cells": [
    {
      "cell_type": "code",
      "metadata": {
        "id": "T4TbJiSUvgLS",
        "colab_type": "code",
        "outputId": "141265eb-d46b-4f59-e878-f39bff0ecaff",
        "colab": {
          "base_uri": "https://localhost:8080/",
          "height": 124
        }
      },
      "source": [
        "from google.colab import drive\n",
        "drive.mount('/content/drive')"
      ],
      "execution_count": 1,
      "outputs": [
        {
          "output_type": "stream",
          "text": [
            "Go to this URL in a browser: https://accounts.google.com/o/oauth2/auth?client_id=947318989803-6bn6qk8qdgf4n4g3pfee6491hc0brc4i.apps.googleusercontent.com&redirect_uri=urn%3aietf%3awg%3aoauth%3a2.0%3aoob&response_type=code&scope=email%20https%3a%2f%2fwww.googleapis.com%2fauth%2fdocs.test%20https%3a%2f%2fwww.googleapis.com%2fauth%2fdrive%20https%3a%2f%2fwww.googleapis.com%2fauth%2fdrive.photos.readonly%20https%3a%2f%2fwww.googleapis.com%2fauth%2fpeopleapi.readonly\n",
            "\n",
            "Enter your authorization code:\n",
            "··········\n",
            "Mounted at /content/drive\n"
          ],
          "name": "stdout"
        }
      ]
    },
    {
      "cell_type": "code",
      "metadata": {
        "id": "Qjor0jHDihhG",
        "colab_type": "code",
        "outputId": "014d27b3-6bcb-494b-ed09-4f238b1516a6",
        "colab": {
          "base_uri": "https://localhost:8080/",
          "height": 69
        }
      },
      "source": [
        "import tensorflow as tf\n",
        "from tensorflow.keras.layers import LSTM, Dropout, Dense\n",
        "from tensorflow.keras import regularizers\n",
        "from tensorflow.keras.models import Sequential\n",
        "from sklearn.preprocessing import Normalizer, MinMaxScaler, LabelEncoder\n",
        "import numpy as np\n",
        "import matplotlib.pyplot as plt\n",
        "import pandas as pd\n",
        "from tensorflow.keras import metrics\n",
        "from sklearn.utils import shuffle\n",
        "\n",
        "####atom://teletype/portal/3f155216-29d7-4279-882f-d6aec0f4c85b\n",
        "\n",
        "df_train = pd.read_csv('/content/drive/My Drive/COVID_19/train.csv')\n",
        "df_test = pd.read_csv('/content/drive/My Drive/COVID_19/test.csv')\n",
        "\n",
        "train_data = df_train.drop(\n",
        "    ['Id', 'County', 'Province_State', 'Country_Region'], axis=1)\n",
        "#test_data = df_test.drop(\n",
        "#    ['County', 'Province_State', 'Country_Region'], axis=1)\n",
        "train_data.set_index('Date', inplace=True)\n",
        "#test_data.set_index('Date', inplace=True)\n",
        "\n",
        "train_confirm = train_data[train_data['Target'] == 'ConfirmedCases']\n",
        "train_confirm = train_confirm.drop(['Target'], axis = 1)\n",
        "train_confirm['TargetValue'] = np.where(train_confirm['TargetValue'] <=0, 0, train_confirm['TargetValue'])\n",
        "#print(train_confirm)\n",
        "\n",
        "X = train_confirm.iloc[:, 0: 4].to_numpy()\n",
        "Y = train_data.iloc[:, 4: 5].to_numpy()\n",
        "\n",
        "# MinMaxScaling\n",
        "\n",
        "sc_pop = MinMaxScaler(feature_range=(0, 1))\n",
        "sc_tg = MinMaxScaler(feature_range=(0, 1))\n",
        "X[:, 0:1] = sc_pop.fit_transform(X[:, 0:1])\n",
        "X[:, 2:3] = sc_tg.fit_transform(X[:, 2:3])\n",
        "\n",
        "\n",
        "X = X.reshape(-1,104,3)\n",
        "print(X.shape)\n",
        "#print(df_train.dtypes)\n",
        "#print(X)\n",
        "\n",
        "def multivariate_data(dataset, target, start_index, end_index, time_step) :\n",
        "\tdata=list()\n",
        "\tlabel =list()\n",
        "\n",
        "\tstart_index = start_index + time_step\n",
        "\tfor i in range(start_index, end_index) :\n",
        "\t\tindices = range(i-time_step, i)\n",
        "\t\tdata.append(dataset[indices])\n",
        "\t\tlabel.append(target[i])\n",
        "\n",
        "\treturn np.array(data), np.array(label)\n",
        "\n",
        "time_step = 40\n",
        "partition = 104-4-time_step\n",
        "X_train, Y_train = multivariate_data(X[0,:,:], X[0,:,2], 0, 104, time_step)\n",
        "\n",
        "for i in range(1,3463) :\n",
        "\tX_dummy, Y_dummy = multivariate_data(X[i,:,:], X[i,:,2], 0, 104, time_step)\n",
        "\tX_train = np.concatenate((X_train, X_dummy), axis = 0)\n",
        "\tY_train = np.concatenate((Y_train, Y_dummy), axis = 0)\n",
        "\n",
        "print(X_train.shape)\n",
        "print(Y_train.shape)\n"
      ],
      "execution_count": 5,
      "outputs": [
        {
          "output_type": "stream",
          "text": [
            "(3463, 104, 3)\n",
            "(221632, 40, 3)\n",
            "(221632,)\n"
          ],
          "name": "stdout"
        }
      ]
    },
    {
      "cell_type": "code",
      "metadata": {
        "id": "hwu7cQK8m-gM",
        "colab_type": "code",
        "outputId": "3f789cfc-6aff-4eba-a007-516250b0e5ec",
        "colab": {
          "base_uri": "https://localhost:8080/",
          "height": 277
        }
      },
      "source": [
        "regressor = Sequential()\n",
        "\n",
        "regressor.add(LSTM(units = 16, return_sequences = True, input_shape = (X_train.shape[1], 3)))\n",
        "regressor.add(Dropout(0.3))\n",
        "regressor.add(LSTM(units = 16, return_sequences = True))\n",
        "regressor.add(Dropout(0.3))\n",
        "regressor.add(LSTM(units = 16, return_sequences = True))\n",
        "regressor.add(Dropout(0.3))\n",
        "regressor.add(LSTM(units = 16))\n",
        "regressor.add(Dropout(0.3))\n",
        "regressor.add(Dense(units = 1))\n",
        "regressor.compile(optimizer = 'RMSprop', loss = 'mean_squared_error')\n",
        "regressor.fit(X_train, Y_train, epochs = 7, batch_size = 32)\n"
      ],
      "execution_count": 7,
      "outputs": [
        {
          "output_type": "stream",
          "text": [
            "Epoch 1/7\n",
            "6926/6926 [==============================] - 66s 10ms/step - loss: 7.9666e-05\n",
            "Epoch 2/7\n",
            "6926/6926 [==============================] - 66s 10ms/step - loss: 8.1239e-05\n",
            "Epoch 3/7\n",
            "6926/6926 [==============================] - 67s 10ms/step - loss: 6.8386e-05\n",
            "Epoch 4/7\n",
            "6926/6926 [==============================] - 66s 10ms/step - loss: 6.9338e-05\n",
            "Epoch 5/7\n",
            "6926/6926 [==============================] - 66s 10ms/step - loss: 5.1502e-05\n",
            "Epoch 6/7\n",
            "6926/6926 [==============================] - 66s 10ms/step - loss: 4.7582e-05\n",
            "Epoch 7/7\n",
            "6926/6926 [==============================] - 66s 10ms/step - loss: 3.6580e-05\n"
          ],
          "name": "stdout"
        },
        {
          "output_type": "execute_result",
          "data": {
            "text/plain": [
              "<tensorflow.python.keras.callbacks.History at 0x7fb2029e9cf8>"
            ]
          },
          "metadata": {
            "tags": []
          },
          "execution_count": 7
        }
      ]
    },
    {
      "cell_type": "code",
      "metadata": {
        "id": "iI9K_pj_uZgh",
        "colab_type": "code",
        "outputId": "7b85e40d-340e-4378-ab8c-d75811c8086e",
        "colab": {
          "base_uri": "https://localhost:8080/",
          "height": 156
        }
      },
      "source": [
        "test_data = df_test.drop(\n",
        "    ['ForecastId','County', 'Province_State', 'Country_Region'], axis=1)\n",
        "test_data.set_index('Date', inplace=True)\n",
        "test_confirm = test_data[test_data['Target'] == 'ConfirmedCases']\n",
        "test_confirm = test_confirm.drop(['Target'], axis = 1)\n",
        "\n",
        "x_test = test_confirm.iloc[:, 0: 4].values\n",
        "(a,b) = x_test.shape\n",
        "x_test[:, 0:1] = sc_pop.fit_transform(x_test[:, 0:1])\n",
        "\n",
        "X_modify = np.zeros(shape = (a,b+1))\n",
        "X_modify[:,:-1] = x_test\n",
        "X_modify = X_modify.reshape(-1,45,3)\n",
        "\n",
        "X_t1 = X_modify[0,:,:]\n",
        "X_t2 = X[0,:,:]\n",
        "X_t3 = np.concatenate((X_t2,X_t1), axis = 0)\n",
        "st_index = 104 - time_step\n",
        "X_t3 = X_t3[st_index:149,:]\n",
        "X_test1, Y_d1 = multivariate_data(X_t3, X_t3[:,2], 0, time_step + 45, time_step)\n",
        "print(X_test1.shape)\n",
        "\n",
        "for i in range (1,3463) :\n",
        "\tx_t1 = X_modify[i,:,:]\n",
        "\tX_t2 = X[i,:,:]\n",
        "\tX_t3 = np.concatenate((X_t2,X_t1), axis = 0)\n",
        "\tX_t3 = X_t3[st_index:149,:]\n",
        "\tX_test_dummy, Y_d1 = multivariate_data(X_t3, X_t3[:,2], 0, time_step + 45, time_step)\n",
        "\tX_test1 = np.concatenate((X_test1, X_test_dummy), axis =0)\n",
        "\n",
        "predicted_test = regressor.predict(X_test1)\n",
        "predicted_test = sc_tg.inverse_transform(predicted_test)\n",
        "print(predicted_test)"
      ],
      "execution_count": 8,
      "outputs": [
        {
          "output_type": "stream",
          "text": [
            "(45, 40, 3)\n",
            "[[116.74444 ]\n",
            " [131.80185 ]\n",
            " [140.70868 ]\n",
            " ...\n",
            " [ -3.100041]\n",
            " [ -3.100041]\n",
            " [ -3.100041]]\n"
          ],
          "name": "stdout"
        }
      ]
    },
    {
      "cell_type": "code",
      "metadata": {
        "id": "gpcJSpuQONhX",
        "colab_type": "code",
        "outputId": "6f795a07-b81f-47d4-ea77-7f7ad2e77ba4",
        "colab": {
          "base_uri": "https://localhost:8080/",
          "height": 52
        }
      },
      "source": [
        "pred_test_flat = predicted_test.flatten()\n",
        "print(pred_test_flat)\n",
        "pred_test_flat = pred_test_flat.astype(int)\n",
        "print(pred_test_flat)"
      ],
      "execution_count": 9,
      "outputs": [
        {
          "output_type": "stream",
          "text": [
            "[116.74444  131.80185  140.70868  ...  -3.100041  -3.100041  -3.100041]\n",
            "[116 131 140 ...  -3  -3  -3]\n"
          ],
          "name": "stdout"
        }
      ]
    },
    {
      "cell_type": "code",
      "metadata": {
        "id": "Jaibu4K6Fsa2",
        "colab_type": "code",
        "outputId": "b67c5eba-1936-4e40-e1bb-ad3f8f876cde",
        "colab": {
          "base_uri": "https://localhost:8080/",
          "height": 35
        }
      },
      "source": [
        "pred_test_flat.shape"
      ],
      "execution_count": 10,
      "outputs": [
        {
          "output_type": "execute_result",
          "data": {
            "text/plain": [
              "(155835,)"
            ]
          },
          "metadata": {
            "tags": []
          },
          "execution_count": 10
        }
      ]
    },
    {
      "cell_type": "code",
      "metadata": {
        "id": "rXqV91fYDInj",
        "colab_type": "code",
        "outputId": "4d5aa824-f690-46a1-9526-a449a9934c22",
        "colab": {
          "base_uri": "https://localhost:8080/",
          "height": 415
        }
      },
      "source": [
        "df = pd.DataFrame(pred_test_flat)\n",
        "my_list = [*range(2,935011,6)]\n",
        "df['Id_1'] = my_list\n",
        "df.rename(columns = {0 : 'Predicted_Results'}, inplace = True)\n",
        "df['Predicted_Results'] = np.where(df['Predicted_Results'] <0, 0, df['Predicted_Results'])\n",
        "df"
      ],
      "execution_count": 25,
      "outputs": [
        {
          "output_type": "execute_result",
          "data": {
            "text/html": [
              "<div>\n",
              "<style scoped>\n",
              "    .dataframe tbody tr th:only-of-type {\n",
              "        vertical-align: middle;\n",
              "    }\n",
              "\n",
              "    .dataframe tbody tr th {\n",
              "        vertical-align: top;\n",
              "    }\n",
              "\n",
              "    .dataframe thead th {\n",
              "        text-align: right;\n",
              "    }\n",
              "</style>\n",
              "<table border=\"1\" class=\"dataframe\">\n",
              "  <thead>\n",
              "    <tr style=\"text-align: right;\">\n",
              "      <th></th>\n",
              "      <th>Predicted_Results</th>\n",
              "      <th>Id_1</th>\n",
              "    </tr>\n",
              "  </thead>\n",
              "  <tbody>\n",
              "    <tr>\n",
              "      <th>0</th>\n",
              "      <td>116</td>\n",
              "      <td>2</td>\n",
              "    </tr>\n",
              "    <tr>\n",
              "      <th>1</th>\n",
              "      <td>131</td>\n",
              "      <td>8</td>\n",
              "    </tr>\n",
              "    <tr>\n",
              "      <th>2</th>\n",
              "      <td>140</td>\n",
              "      <td>14</td>\n",
              "    </tr>\n",
              "    <tr>\n",
              "      <th>3</th>\n",
              "      <td>139</td>\n",
              "      <td>20</td>\n",
              "    </tr>\n",
              "    <tr>\n",
              "      <th>4</th>\n",
              "      <td>126</td>\n",
              "      <td>26</td>\n",
              "    </tr>\n",
              "    <tr>\n",
              "      <th>...</th>\n",
              "      <td>...</td>\n",
              "      <td>...</td>\n",
              "    </tr>\n",
              "    <tr>\n",
              "      <th>155830</th>\n",
              "      <td>0</td>\n",
              "      <td>934982</td>\n",
              "    </tr>\n",
              "    <tr>\n",
              "      <th>155831</th>\n",
              "      <td>0</td>\n",
              "      <td>934988</td>\n",
              "    </tr>\n",
              "    <tr>\n",
              "      <th>155832</th>\n",
              "      <td>0</td>\n",
              "      <td>934994</td>\n",
              "    </tr>\n",
              "    <tr>\n",
              "      <th>155833</th>\n",
              "      <td>0</td>\n",
              "      <td>935000</td>\n",
              "    </tr>\n",
              "    <tr>\n",
              "      <th>155834</th>\n",
              "      <td>0</td>\n",
              "      <td>935006</td>\n",
              "    </tr>\n",
              "  </tbody>\n",
              "</table>\n",
              "<p>155835 rows × 2 columns</p>\n",
              "</div>"
            ],
            "text/plain": [
              "        Predicted_Results    Id_1\n",
              "0                     116       2\n",
              "1                     131       8\n",
              "2                     140      14\n",
              "3                     139      20\n",
              "4                     126      26\n",
              "...                   ...     ...\n",
              "155830                  0  934982\n",
              "155831                  0  934988\n",
              "155832                  0  934994\n",
              "155833                  0  935000\n",
              "155834                  0  935006\n",
              "\n",
              "[155835 rows x 2 columns]"
            ]
          },
          "metadata": {
            "tags": []
          },
          "execution_count": 25
        }
      ]
    },
    {
      "cell_type": "code",
      "metadata": {
        "id": "1a4tdGPjJdr0",
        "colab_type": "code",
        "colab": {
          "base_uri": "https://localhost:8080/",
          "height": 415
        },
        "outputId": "3c32c811-e294-414c-ef04-bbfef53335de"
      },
      "source": [
        "s1 = df['Predicted_Results']\n",
        "l1 = s1.tolist()\n",
        "l2 = [i*2 for i in l1]\n",
        "l1 = [i*0.95 for i in l2]\n",
        "l2 = [round(i) for i in l1]\n",
        "df2 = pd.DataFrame(l2)\n",
        "\n",
        "my_list = [*range(3,935011,6)]\n",
        "df2['Id_1'] = my_list\n",
        "df2.rename(columns = {0 : 'Predicted_Results'}, inplace = True)\n",
        "\n",
        "s1 = df['Predicted_Results']\n",
        "l1 = s1.tolist()\n",
        "l2 = [i*2 for i in l1]\n",
        "l1 = [i*0.05 for i in l2]\n",
        "l2 = [round(i) for i in l1]\n",
        "df3 = pd.DataFrame(l2)\n",
        "\n",
        "my_list = [*range(1,935011,6)]\n",
        "df3['Id_1'] = my_list\n",
        "df3.rename(columns = {0 : 'Predicted_Results'}, inplace = True)\n",
        "\n",
        "result_confirmed_cases = pd.concat([df, df2, df3])\n",
        "result_confirmed_cases.sort_values(by = ['Id_1'], inplace = True)\n",
        "result_confirmed_cases"
      ],
      "execution_count": 27,
      "outputs": [
        {
          "output_type": "execute_result",
          "data": {
            "text/html": [
              "<div>\n",
              "<style scoped>\n",
              "    .dataframe tbody tr th:only-of-type {\n",
              "        vertical-align: middle;\n",
              "    }\n",
              "\n",
              "    .dataframe tbody tr th {\n",
              "        vertical-align: top;\n",
              "    }\n",
              "\n",
              "    .dataframe thead th {\n",
              "        text-align: right;\n",
              "    }\n",
              "</style>\n",
              "<table border=\"1\" class=\"dataframe\">\n",
              "  <thead>\n",
              "    <tr style=\"text-align: right;\">\n",
              "      <th></th>\n",
              "      <th>Predicted_Results</th>\n",
              "      <th>Id_1</th>\n",
              "    </tr>\n",
              "  </thead>\n",
              "  <tbody>\n",
              "    <tr>\n",
              "      <th>0</th>\n",
              "      <td>12</td>\n",
              "      <td>1</td>\n",
              "    </tr>\n",
              "    <tr>\n",
              "      <th>0</th>\n",
              "      <td>116</td>\n",
              "      <td>2</td>\n",
              "    </tr>\n",
              "    <tr>\n",
              "      <th>0</th>\n",
              "      <td>220</td>\n",
              "      <td>3</td>\n",
              "    </tr>\n",
              "    <tr>\n",
              "      <th>1</th>\n",
              "      <td>13</td>\n",
              "      <td>7</td>\n",
              "    </tr>\n",
              "    <tr>\n",
              "      <th>1</th>\n",
              "      <td>131</td>\n",
              "      <td>8</td>\n",
              "    </tr>\n",
              "    <tr>\n",
              "      <th>...</th>\n",
              "      <td>...</td>\n",
              "      <td>...</td>\n",
              "    </tr>\n",
              "    <tr>\n",
              "      <th>155833</th>\n",
              "      <td>0</td>\n",
              "      <td>935000</td>\n",
              "    </tr>\n",
              "    <tr>\n",
              "      <th>155833</th>\n",
              "      <td>0</td>\n",
              "      <td>935001</td>\n",
              "    </tr>\n",
              "    <tr>\n",
              "      <th>155834</th>\n",
              "      <td>0</td>\n",
              "      <td>935005</td>\n",
              "    </tr>\n",
              "    <tr>\n",
              "      <th>155834</th>\n",
              "      <td>0</td>\n",
              "      <td>935006</td>\n",
              "    </tr>\n",
              "    <tr>\n",
              "      <th>155834</th>\n",
              "      <td>0</td>\n",
              "      <td>935007</td>\n",
              "    </tr>\n",
              "  </tbody>\n",
              "</table>\n",
              "<p>467505 rows × 2 columns</p>\n",
              "</div>"
            ],
            "text/plain": [
              "        Predicted_Results    Id_1\n",
              "0                      12       1\n",
              "0                     116       2\n",
              "0                     220       3\n",
              "1                      13       7\n",
              "1                     131       8\n",
              "...                   ...     ...\n",
              "155833                  0  935000\n",
              "155833                  0  935001\n",
              "155834                  0  935005\n",
              "155834                  0  935006\n",
              "155834                  0  935007\n",
              "\n",
              "[467505 rows x 2 columns]"
            ]
          },
          "metadata": {
            "tags": []
          },
          "execution_count": 27
        }
      ]
    },
    {
      "cell_type": "code",
      "metadata": {
        "id": "ZPx5IlOwO3V2",
        "colab_type": "code",
        "colab": {
          "base_uri": "https://localhost:8080/",
          "height": 69
        },
        "outputId": "179fc672-c5e1-479a-c853-1e17f53cb0b9"
      },
      "source": [
        "train_confirm1 = train_data[train_data['Target'] == 'Fatalities']\n",
        "train_confirm1 = train_confirm1.drop(['Target'], axis = 1)\n",
        "train_confirm1['TargetValue'] = np.where(train_confirm1['TargetValue'] <=0, 0, train_confirm1['TargetValue'])\n",
        "#print(train_confirm)\n",
        "\n",
        "X1 = train_confirm1.iloc[:, 0: 4].to_numpy()\n",
        "\n",
        "# MinMaxScaling\n",
        "\n",
        "X1[:, 0:1] = sc_pop.fit_transform(X1[:, 0:1])\n",
        "X1[:, 2:3] = sc_tg.fit_transform(X1[:, 2:3])\n",
        "\n",
        "\n",
        "X1 = X1.reshape(-1,104,3)\n",
        "print(X1.shape)\n",
        "#print(df_train.dtypes)\n",
        "#print(X)\n",
        "\n",
        "def multivariate_data(dataset, target, start_index, end_index, time_step) :\n",
        "\tdata=list()\n",
        "\tlabel =list()\n",
        "\n",
        "\tstart_index = start_index + time_step\n",
        "\tfor i in range(start_index, end_index) :\n",
        "\t\tindices = range(i-time_step, i)\n",
        "\t\tdata.append(dataset[indices])\n",
        "\t\tlabel.append(target[i])\n",
        "\n",
        "\treturn np.array(data), np.array(label)\n",
        "\n",
        "X_train1, Y_train1 = multivariate_data(X1[0,:,:], X1[0,:,2], 0, 104, time_step)\n",
        "\n",
        "for i in range(1,3463) :\n",
        "\tX_dummy, Y_dummy = multivariate_data(X1[i,:,:], X1[i,:,2], 0, 104, time_step)\n",
        "\tX_train1 = np.concatenate((X_train1, X_dummy), axis = 0)\n",
        "\tY_train1 = np.concatenate((Y_train1, Y_dummy), axis = 0)\n",
        "\n",
        "print(X_train1.shape)\n",
        "print(Y_train1.shape)\n"
      ],
      "execution_count": 28,
      "outputs": [
        {
          "output_type": "stream",
          "text": [
            "(3463, 104, 3)\n",
            "(221632, 40, 3)\n",
            "(221632,)\n"
          ],
          "name": "stdout"
        }
      ]
    },
    {
      "cell_type": "code",
      "metadata": {
        "id": "-gCVzZrVQPbG",
        "colab_type": "code",
        "colab": {
          "base_uri": "https://localhost:8080/",
          "height": 277
        },
        "outputId": "0c0fb13a-02e2-4d89-8081-0feb18ba5765"
      },
      "source": [
        "regressor1 = Sequential()\n",
        "\n",
        "regressor1.add(LSTM(units = 16, return_sequences = True, input_shape = (X_train1.shape[1], 3)))\n",
        "regressor1.add(Dropout(0.3))\n",
        "regressor1.add(LSTM(units = 16, return_sequences = True))\n",
        "regressor1.add(Dropout(0.3))\n",
        "regressor1.add(LSTM(units = 16, return_sequences = True))\n",
        "regressor1.add(Dropout(0.3))\n",
        "regressor1.add(LSTM(units = 16))\n",
        "regressor1.add(Dropout(0.3))\n",
        "regressor1.add(Dense(units = 1))\n",
        "regressor1.compile(optimizer = 'RMSprop', loss = 'mean_squared_error')\n",
        "regressor1.fit(X_train1, Y_train1, epochs = 7, batch_size = 32)"
      ],
      "execution_count": 29,
      "outputs": [
        {
          "output_type": "stream",
          "text": [
            "Epoch 1/7\n",
            "6926/6926 [==============================] - 67s 10ms/step - loss: 4.7147e-05\n",
            "Epoch 2/7\n",
            "6926/6926 [==============================] - 66s 10ms/step - loss: 2.9095e-05\n",
            "Epoch 3/7\n",
            "6926/6926 [==============================] - 66s 10ms/step - loss: 2.4805e-05\n",
            "Epoch 4/7\n",
            "6926/6926 [==============================] - 66s 10ms/step - loss: 2.5505e-05\n",
            "Epoch 5/7\n",
            "6926/6926 [==============================] - 66s 10ms/step - loss: 2.6499e-05\n",
            "Epoch 6/7\n",
            "6926/6926 [==============================] - 67s 10ms/step - loss: 2.1532e-05\n",
            "Epoch 7/7\n",
            "6926/6926 [==============================] - 66s 10ms/step - loss: 2.1328e-05\n"
          ],
          "name": "stdout"
        },
        {
          "output_type": "execute_result",
          "data": {
            "text/plain": [
              "<tensorflow.python.keras.callbacks.History at 0x7fb202123c18>"
            ]
          },
          "metadata": {
            "tags": []
          },
          "execution_count": 29
        }
      ]
    },
    {
      "cell_type": "code",
      "metadata": {
        "id": "kbO5iDXgQdaI",
        "colab_type": "code",
        "colab": {
          "base_uri": "https://localhost:8080/",
          "height": 156
        },
        "outputId": "4e7ea164-b52b-4a5b-dd27-95437acb6d5f"
      },
      "source": [
        "test_data = df_test.drop(\n",
        "    ['ForecastId','County', 'Province_State', 'Country_Region'], axis=1)\n",
        "test_data.set_index('Date', inplace=True)\n",
        "test_confirm = test_data[test_data['Target'] == 'Fatalities']\n",
        "test_confirm = test_confirm.drop(['Target'], axis = 1)\n",
        "\n",
        "x_test = test_confirm.iloc[:, 0: 4].values\n",
        "(a,b) = x_test.shape\n",
        "x_test[:, 0:1] = sc_pop.fit_transform(x_test[:, 0:1])\n",
        "\n",
        "X_modify = np.zeros(shape = (a,b+1))\n",
        "X_modify[:,:-1] = x_test\n",
        "X_modify = X_modify.reshape(-1,45,3)\n",
        "\n",
        "X_t1 = X_modify[0,:,:]\n",
        "X_t2 = X[0,:,:]\n",
        "X_t3 = np.concatenate((X_t2,X_t1), axis = 0)\n",
        "st_index = 104 - time_step\n",
        "X_t3 = X_t3[st_index:149,:]\n",
        "X_test1, Y_d1 = multivariate_data(X_t3, X_t3[:,2], 0, time_step + 45, time_step)\n",
        "\n",
        "for i in range (1,3463) :\n",
        "\tx_t1 = X_modify[i,:,:]\n",
        "\tX_t2 = X[i,:,:]\n",
        "\tX_t3 = np.concatenate((X_t2,X_t1), axis = 0)\n",
        "\tX_t3 = X_t3[st_index:149,:]\n",
        "\tX_test_dummy, Y_d1 = multivariate_data(X_t3, X_t3[:,2], 0, time_step + 45, time_step)\n",
        "\tX_test1 = np.concatenate((X_test1, X_test_dummy), axis =0)\n",
        "\n",
        "predicted_test = regressor1.predict(X_test1)\n",
        "predicted_test = sc_tg.inverse_transform(predicted_test)\n",
        "print(predicted_test)"
      ],
      "execution_count": 30,
      "outputs": [
        {
          "output_type": "stream",
          "text": [
            "(45, 40, 3)\n",
            "[[ 9.166556 ]\n",
            " [11.171688 ]\n",
            " [13.773139 ]\n",
            " ...\n",
            " [ 2.8854387]\n",
            " [ 2.8854387]\n",
            " [ 2.8854387]]\n"
          ],
          "name": "stdout"
        }
      ]
    },
    {
      "cell_type": "code",
      "metadata": {
        "id": "vsLtn9BZRWHt",
        "colab_type": "code",
        "colab": {
          "base_uri": "https://localhost:8080/",
          "height": 415
        },
        "outputId": "7915b827-ebb3-43e5-b959-a1a252971860"
      },
      "source": [
        "pred_test_flat = predicted_test.flatten()\n",
        "pred_test_flat = pred_test_flat.astype(int)\n",
        "df4 = pd.DataFrame(pred_test_flat)\n",
        "my_list = [*range(5,935011,6)]\n",
        "df4['Id_1'] = my_list\n",
        "df4.rename(columns = {0 : 'Predicted_Results'}, inplace = True)\n",
        "df4['Predicted_Results'] = np.where(df4['Predicted_Results'] <0, 0, df4['Predicted_Results'])\n",
        "df4"
      ],
      "execution_count": 31,
      "outputs": [
        {
          "output_type": "execute_result",
          "data": {
            "text/html": [
              "<div>\n",
              "<style scoped>\n",
              "    .dataframe tbody tr th:only-of-type {\n",
              "        vertical-align: middle;\n",
              "    }\n",
              "\n",
              "    .dataframe tbody tr th {\n",
              "        vertical-align: top;\n",
              "    }\n",
              "\n",
              "    .dataframe thead th {\n",
              "        text-align: right;\n",
              "    }\n",
              "</style>\n",
              "<table border=\"1\" class=\"dataframe\">\n",
              "  <thead>\n",
              "    <tr style=\"text-align: right;\">\n",
              "      <th></th>\n",
              "      <th>Predicted_Results</th>\n",
              "      <th>Id_1</th>\n",
              "    </tr>\n",
              "  </thead>\n",
              "  <tbody>\n",
              "    <tr>\n",
              "      <th>0</th>\n",
              "      <td>9</td>\n",
              "      <td>5</td>\n",
              "    </tr>\n",
              "    <tr>\n",
              "      <th>1</th>\n",
              "      <td>11</td>\n",
              "      <td>11</td>\n",
              "    </tr>\n",
              "    <tr>\n",
              "      <th>2</th>\n",
              "      <td>13</td>\n",
              "      <td>17</td>\n",
              "    </tr>\n",
              "    <tr>\n",
              "      <th>3</th>\n",
              "      <td>16</td>\n",
              "      <td>23</td>\n",
              "    </tr>\n",
              "    <tr>\n",
              "      <th>4</th>\n",
              "      <td>17</td>\n",
              "      <td>29</td>\n",
              "    </tr>\n",
              "    <tr>\n",
              "      <th>...</th>\n",
              "      <td>...</td>\n",
              "      <td>...</td>\n",
              "    </tr>\n",
              "    <tr>\n",
              "      <th>155830</th>\n",
              "      <td>2</td>\n",
              "      <td>934985</td>\n",
              "    </tr>\n",
              "    <tr>\n",
              "      <th>155831</th>\n",
              "      <td>2</td>\n",
              "      <td>934991</td>\n",
              "    </tr>\n",
              "    <tr>\n",
              "      <th>155832</th>\n",
              "      <td>2</td>\n",
              "      <td>934997</td>\n",
              "    </tr>\n",
              "    <tr>\n",
              "      <th>155833</th>\n",
              "      <td>2</td>\n",
              "      <td>935003</td>\n",
              "    </tr>\n",
              "    <tr>\n",
              "      <th>155834</th>\n",
              "      <td>2</td>\n",
              "      <td>935009</td>\n",
              "    </tr>\n",
              "  </tbody>\n",
              "</table>\n",
              "<p>155835 rows × 2 columns</p>\n",
              "</div>"
            ],
            "text/plain": [
              "        Predicted_Results    Id_1\n",
              "0                       9       5\n",
              "1                      11      11\n",
              "2                      13      17\n",
              "3                      16      23\n",
              "4                      17      29\n",
              "...                   ...     ...\n",
              "155830                  2  934985\n",
              "155831                  2  934991\n",
              "155832                  2  934997\n",
              "155833                  2  935003\n",
              "155834                  2  935009\n",
              "\n",
              "[155835 rows x 2 columns]"
            ]
          },
          "metadata": {
            "tags": []
          },
          "execution_count": 31
        }
      ]
    },
    {
      "cell_type": "code",
      "metadata": {
        "id": "0C5a7e69R-w1",
        "colab_type": "code",
        "colab": {
          "base_uri": "https://localhost:8080/",
          "height": 415
        },
        "outputId": "243dfb18-e455-416e-c303-e06aa9cc2ad8"
      },
      "source": [
        "s1 = df4['Predicted_Results']\n",
        "l1 = s1.tolist()\n",
        "l2 = [i*2 for i in l1]\n",
        "l1 = [i*0.95 for i in l2]\n",
        "l2 = [round(i) for i in l1]\n",
        "df5 = pd.DataFrame(l2)\n",
        "\n",
        "my_list = [*range(6,935011,6)]\n",
        "df5['Id_1'] = my_list\n",
        "df5.rename(columns = {0 : 'Predicted_Results'}, inplace = True)\n",
        "\n",
        "s1 = df4['Predicted_Results']\n",
        "l1 = s1.tolist()\n",
        "l2 = [i*2 for i in l1]\n",
        "l1 = [i*0.05 for i in l2]\n",
        "l2 = [round(i) for i in l1]\n",
        "df6 = pd.DataFrame(l2)\n",
        "\n",
        "my_list = [*range(4,935011,6)]\n",
        "df6['Id_1'] = my_list\n",
        "df6.rename(columns = {0 : 'Predicted_Results'}, inplace = True)\n",
        "\n",
        "result_fatalities = pd.concat([df4, df5, df6])\n",
        "result_fatalities.sort_values(by = ['Id_1'], inplace = True)\n",
        "result_fatalities"
      ],
      "execution_count": 32,
      "outputs": [
        {
          "output_type": "execute_result",
          "data": {
            "text/html": [
              "<div>\n",
              "<style scoped>\n",
              "    .dataframe tbody tr th:only-of-type {\n",
              "        vertical-align: middle;\n",
              "    }\n",
              "\n",
              "    .dataframe tbody tr th {\n",
              "        vertical-align: top;\n",
              "    }\n",
              "\n",
              "    .dataframe thead th {\n",
              "        text-align: right;\n",
              "    }\n",
              "</style>\n",
              "<table border=\"1\" class=\"dataframe\">\n",
              "  <thead>\n",
              "    <tr style=\"text-align: right;\">\n",
              "      <th></th>\n",
              "      <th>Predicted_Results</th>\n",
              "      <th>Id_1</th>\n",
              "    </tr>\n",
              "  </thead>\n",
              "  <tbody>\n",
              "    <tr>\n",
              "      <th>0</th>\n",
              "      <td>1</td>\n",
              "      <td>4</td>\n",
              "    </tr>\n",
              "    <tr>\n",
              "      <th>0</th>\n",
              "      <td>9</td>\n",
              "      <td>5</td>\n",
              "    </tr>\n",
              "    <tr>\n",
              "      <th>0</th>\n",
              "      <td>17</td>\n",
              "      <td>6</td>\n",
              "    </tr>\n",
              "    <tr>\n",
              "      <th>1</th>\n",
              "      <td>1</td>\n",
              "      <td>10</td>\n",
              "    </tr>\n",
              "    <tr>\n",
              "      <th>1</th>\n",
              "      <td>11</td>\n",
              "      <td>11</td>\n",
              "    </tr>\n",
              "    <tr>\n",
              "      <th>...</th>\n",
              "      <td>...</td>\n",
              "      <td>...</td>\n",
              "    </tr>\n",
              "    <tr>\n",
              "      <th>155833</th>\n",
              "      <td>2</td>\n",
              "      <td>935003</td>\n",
              "    </tr>\n",
              "    <tr>\n",
              "      <th>155833</th>\n",
              "      <td>4</td>\n",
              "      <td>935004</td>\n",
              "    </tr>\n",
              "    <tr>\n",
              "      <th>155834</th>\n",
              "      <td>0</td>\n",
              "      <td>935008</td>\n",
              "    </tr>\n",
              "    <tr>\n",
              "      <th>155834</th>\n",
              "      <td>2</td>\n",
              "      <td>935009</td>\n",
              "    </tr>\n",
              "    <tr>\n",
              "      <th>155834</th>\n",
              "      <td>4</td>\n",
              "      <td>935010</td>\n",
              "    </tr>\n",
              "  </tbody>\n",
              "</table>\n",
              "<p>467505 rows × 2 columns</p>\n",
              "</div>"
            ],
            "text/plain": [
              "        Predicted_Results    Id_1\n",
              "0                       1       4\n",
              "0                       9       5\n",
              "0                      17       6\n",
              "1                       1      10\n",
              "1                      11      11\n",
              "...                   ...     ...\n",
              "155833                  2  935003\n",
              "155833                  4  935004\n",
              "155834                  0  935008\n",
              "155834                  2  935009\n",
              "155834                  4  935010\n",
              "\n",
              "[467505 rows x 2 columns]"
            ]
          },
          "metadata": {
            "tags": []
          },
          "execution_count": 32
        }
      ]
    },
    {
      "cell_type": "code",
      "metadata": {
        "id": "Zg1TyfvZTHQG",
        "colab_type": "code",
        "colab": {
          "base_uri": "https://localhost:8080/",
          "height": 415
        },
        "outputId": "ca21c143-5456-49b0-d15e-f8c26b95718a"
      },
      "source": [
        "result_total = pd.concat([result_confirmed_cases, result_fatalities])\n",
        "result_total.sort_values(by = ['Id_1'], inplace = True)\n",
        "result_total"
      ],
      "execution_count": 34,
      "outputs": [
        {
          "output_type": "execute_result",
          "data": {
            "text/html": [
              "<div>\n",
              "<style scoped>\n",
              "    .dataframe tbody tr th:only-of-type {\n",
              "        vertical-align: middle;\n",
              "    }\n",
              "\n",
              "    .dataframe tbody tr th {\n",
              "        vertical-align: top;\n",
              "    }\n",
              "\n",
              "    .dataframe thead th {\n",
              "        text-align: right;\n",
              "    }\n",
              "</style>\n",
              "<table border=\"1\" class=\"dataframe\">\n",
              "  <thead>\n",
              "    <tr style=\"text-align: right;\">\n",
              "      <th></th>\n",
              "      <th>Predicted_Results</th>\n",
              "      <th>Id_1</th>\n",
              "    </tr>\n",
              "  </thead>\n",
              "  <tbody>\n",
              "    <tr>\n",
              "      <th>0</th>\n",
              "      <td>12</td>\n",
              "      <td>1</td>\n",
              "    </tr>\n",
              "    <tr>\n",
              "      <th>0</th>\n",
              "      <td>116</td>\n",
              "      <td>2</td>\n",
              "    </tr>\n",
              "    <tr>\n",
              "      <th>0</th>\n",
              "      <td>220</td>\n",
              "      <td>3</td>\n",
              "    </tr>\n",
              "    <tr>\n",
              "      <th>0</th>\n",
              "      <td>1</td>\n",
              "      <td>4</td>\n",
              "    </tr>\n",
              "    <tr>\n",
              "      <th>0</th>\n",
              "      <td>9</td>\n",
              "      <td>5</td>\n",
              "    </tr>\n",
              "    <tr>\n",
              "      <th>...</th>\n",
              "      <td>...</td>\n",
              "      <td>...</td>\n",
              "    </tr>\n",
              "    <tr>\n",
              "      <th>155834</th>\n",
              "      <td>0</td>\n",
              "      <td>935006</td>\n",
              "    </tr>\n",
              "    <tr>\n",
              "      <th>155834</th>\n",
              "      <td>0</td>\n",
              "      <td>935007</td>\n",
              "    </tr>\n",
              "    <tr>\n",
              "      <th>155834</th>\n",
              "      <td>0</td>\n",
              "      <td>935008</td>\n",
              "    </tr>\n",
              "    <tr>\n",
              "      <th>155834</th>\n",
              "      <td>2</td>\n",
              "      <td>935009</td>\n",
              "    </tr>\n",
              "    <tr>\n",
              "      <th>155834</th>\n",
              "      <td>4</td>\n",
              "      <td>935010</td>\n",
              "    </tr>\n",
              "  </tbody>\n",
              "</table>\n",
              "<p>935010 rows × 2 columns</p>\n",
              "</div>"
            ],
            "text/plain": [
              "        Predicted_Results    Id_1\n",
              "0                      12       1\n",
              "0                     116       2\n",
              "0                     220       3\n",
              "0                       1       4\n",
              "0                       9       5\n",
              "...                   ...     ...\n",
              "155834                  0  935006\n",
              "155834                  0  935007\n",
              "155834                  0  935008\n",
              "155834                  2  935009\n",
              "155834                  4  935010\n",
              "\n",
              "[935010 rows x 2 columns]"
            ]
          },
          "metadata": {
            "tags": []
          },
          "execution_count": 34
        }
      ]
    },
    {
      "cell_type": "code",
      "metadata": {
        "id": "yLU5x6FKTioo",
        "colab_type": "code",
        "colab": {
          "base_uri": "https://localhost:8080/",
          "height": 415
        },
        "outputId": "53ead31f-55d6-43d7-a4e0-a2d5faa7a932"
      },
      "source": [
        "df_submission = pd.read_csv('/content/drive/My Drive/COVID_19/submission.csv')\n",
        "my_list = [*range(1,935011)]\n",
        "df_submission['Id'] = my_list \n",
        "final_result = pd.merge(df_submission,result_total, left_on = 'Id', right_on ='Id_1', how = 'inner')\n",
        "final_result.drop(['TargetValue','Id','Id_1','ForecastId'], axis =1, inplace = True)\n",
        "final_result.rename({'Predicted_Results' : 'TargetValue'}, axis = 1, inplace = True)\n",
        "final_result"
      ],
      "execution_count": 41,
      "outputs": [
        {
          "output_type": "execute_result",
          "data": {
            "text/html": [
              "<div>\n",
              "<style scoped>\n",
              "    .dataframe tbody tr th:only-of-type {\n",
              "        vertical-align: middle;\n",
              "    }\n",
              "\n",
              "    .dataframe tbody tr th {\n",
              "        vertical-align: top;\n",
              "    }\n",
              "\n",
              "    .dataframe thead th {\n",
              "        text-align: right;\n",
              "    }\n",
              "</style>\n",
              "<table border=\"1\" class=\"dataframe\">\n",
              "  <thead>\n",
              "    <tr style=\"text-align: right;\">\n",
              "      <th></th>\n",
              "      <th>ForecastId_Quantile</th>\n",
              "      <th>TargetValue</th>\n",
              "    </tr>\n",
              "  </thead>\n",
              "  <tbody>\n",
              "    <tr>\n",
              "      <th>0</th>\n",
              "      <td>1_0.05</td>\n",
              "      <td>12</td>\n",
              "    </tr>\n",
              "    <tr>\n",
              "      <th>1</th>\n",
              "      <td>1_0.5</td>\n",
              "      <td>116</td>\n",
              "    </tr>\n",
              "    <tr>\n",
              "      <th>2</th>\n",
              "      <td>1_0.95</td>\n",
              "      <td>220</td>\n",
              "    </tr>\n",
              "    <tr>\n",
              "      <th>3</th>\n",
              "      <td>2_0.05</td>\n",
              "      <td>1</td>\n",
              "    </tr>\n",
              "    <tr>\n",
              "      <th>4</th>\n",
              "      <td>2_0.5</td>\n",
              "      <td>9</td>\n",
              "    </tr>\n",
              "    <tr>\n",
              "      <th>...</th>\n",
              "      <td>...</td>\n",
              "      <td>...</td>\n",
              "    </tr>\n",
              "    <tr>\n",
              "      <th>935005</th>\n",
              "      <td>311669_0.5</td>\n",
              "      <td>0</td>\n",
              "    </tr>\n",
              "    <tr>\n",
              "      <th>935006</th>\n",
              "      <td>311669_0.95</td>\n",
              "      <td>0</td>\n",
              "    </tr>\n",
              "    <tr>\n",
              "      <th>935007</th>\n",
              "      <td>311670_0.05</td>\n",
              "      <td>0</td>\n",
              "    </tr>\n",
              "    <tr>\n",
              "      <th>935008</th>\n",
              "      <td>311670_0.5</td>\n",
              "      <td>2</td>\n",
              "    </tr>\n",
              "    <tr>\n",
              "      <th>935009</th>\n",
              "      <td>311670_0.95</td>\n",
              "      <td>4</td>\n",
              "    </tr>\n",
              "  </tbody>\n",
              "</table>\n",
              "<p>935010 rows × 2 columns</p>\n",
              "</div>"
            ],
            "text/plain": [
              "       ForecastId_Quantile  TargetValue\n",
              "0                   1_0.05           12\n",
              "1                    1_0.5          116\n",
              "2                   1_0.95          220\n",
              "3                   2_0.05            1\n",
              "4                    2_0.5            9\n",
              "...                    ...          ...\n",
              "935005          311669_0.5            0\n",
              "935006         311669_0.95            0\n",
              "935007         311670_0.05            0\n",
              "935008          311670_0.5            2\n",
              "935009         311670_0.95            4\n",
              "\n",
              "[935010 rows x 2 columns]"
            ]
          },
          "metadata": {
            "tags": []
          },
          "execution_count": 41
        }
      ]
    },
    {
      "cell_type": "code",
      "metadata": {
        "id": "5rtEWSTTX4m_",
        "colab_type": "code",
        "colab": {}
      },
      "source": [
        "final_result.to_csv('submission.csv', index = False)"
      ],
      "execution_count": 0,
      "outputs": []
    }
  ]
}